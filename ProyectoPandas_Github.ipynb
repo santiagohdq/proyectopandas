{
 "cells": [
  {
   "cell_type": "markdown",
   "metadata": {},
   "source": [
    "# Proyecto 1. Pandas\n",
    "Con el fichero Fichero `sample_NYC_parking_issues.csv`\n",
    "\n",
    "\n",
    "**Importante:** los cambios se arrastran en las siguientes preguntas.\n",
    "\n",
    "\n",
    "### Crea un proyecto en Github para esta entrega e incluye un fichero Readme.md\n",
    "Asegurate que es público ya que solo se puede entregar la URL del proyecto en github.\n",
    "<hr/>"
   ]
  },
  {
   "cell_type": "markdown",
   "metadata": {},
   "source": [
    "**Santiago Hernandez Duque**\n",
    "\n",
    "Link de mi repositorio: https://github.com/santiagohdq/tecnologiasuibpython.git"
   ]
  },
  {
   "cell_type": "code",
   "execution_count": 1,
   "metadata": {},
   "outputs": [
    {
     "name": "stdout",
     "output_type": "stream",
     "text": [
      "anyio==4.6.2.post1\n",
      "argon2-cffi==23.1.0\n",
      "argon2-cffi-bindings==21.2.0\n",
      "arrow==1.3.0\n",
      "asttokens==2.4.1\n",
      "async-lru==2.0.4\n",
      "attrs==24.2.0\n",
      "babel==2.16.0\n",
      "beautifulsoup4==4.12.3\n",
      "bleach==6.2.0\n",
      "certifi==2024.8.30\n",
      "cffi==1.17.1\n",
      "charset-normalizer==3.4.0\n",
      "colorama==0.4.6\n",
      "comm==0.2.2\n",
      "contourpy==1.3.1\n",
      "cycler==0.12.1\n",
      "debugpy==1.8.7\n",
      "decorator==5.1.1\n",
      "defusedxml==0.7.1\n",
      "distlib==0.3.9\n",
      "executing==2.1.0\n",
      "fastjsonschema==2.20.0\n",
      "filelock==3.16.1\n",
      "fonttools==4.55.0\n",
      "fqdn==1.5.1\n",
      "h11==0.14.0\n",
      "httpcore==1.0.6\n",
      "httpx==0.27.2\n",
      "idna==3.10\n",
      "ipykernel==6.29.5\n",
      "ipython==8.29.0\n",
      "ipywidgets==8.1.5\n",
      "isoduration==20.11.0\n",
      "jedi==0.19.1\n",
      "Jinja2==3.1.4\n",
      "json5==0.9.25\n",
      "jsonpointer==3.0.0\n",
      "jsonschema==4.23.0\n",
      "jsonschema-specifications==2024.10.1\n",
      "jupyter==1.1.1\n",
      "jupyter-console==6.6.3\n",
      "jupyter-events==0.10.0\n",
      "jupyter-lsp==2.2.5\n",
      "jupyter_client==8.6.3\n",
      "jupyter_core==5.7.2\n",
      "jupyter_server==2.14.2\n",
      "jupyter_server_terminals==0.5.3\n",
      "jupyterlab==4.2.5\n",
      "jupyterlab_pygments==0.3.0\n",
      "jupyterlab_server==2.27.3\n",
      "jupyterlab_widgets==3.0.13\n",
      "kiwisolver==1.4.7\n",
      "MarkupSafe==3.0.2\n",
      "matplotlib==3.9.2\n",
      "matplotlib-inline==0.1.7\n",
      "mistune==3.0.2\n",
      "nbclient==0.10.0\n",
      "nbconvert==7.16.4\n",
      "nbformat==5.10.4\n",
      "nest-asyncio==1.6.0\n",
      "notebook==7.2.2\n",
      "notebook_shim==0.2.4\n",
      "numpy==2.1.3\n",
      "overrides==7.7.0\n",
      "packaging==24.1\n",
      "pandas==2.2.3\n",
      "pandocfilters==1.5.1\n",
      "parso==0.8.4\n",
      "pillow==11.0.0\n",
      "platformdirs==4.3.6\n",
      "prometheus_client==0.21.0\n",
      "prompt_toolkit==3.0.48\n",
      "psutil==6.1.0\n",
      "pure_eval==0.2.3\n",
      "pycparser==2.22\n",
      "Pygments==2.18.0\n",
      "pyparsing==3.2.0\n",
      "python-dateutil==2.9.0.post0\n",
      "python-json-logger==2.0.7\n",
      "pytz==2024.2\n",
      "pywin32==308\n",
      "pywinpty==2.0.14\n",
      "PyYAML==6.0.2\n",
      "pyzmq==26.2.0\n",
      "referencing==0.35.1\n",
      "requests==2.32.3\n",
      "rfc3339-validator==0.1.4\n",
      "rfc3986-validator==0.1.1\n",
      "rpds-py==0.20.1\n",
      "seaborn==0.13.2\n",
      "Send2Trash==1.8.3\n",
      "setuptools==75.3.0\n",
      "six==1.16.0\n",
      "sniffio==1.3.1\n",
      "soupsieve==2.6\n",
      "stack-data==0.6.3\n",
      "terminado==0.18.1\n",
      "tinycss2==1.4.0\n",
      "tornado==6.4.1\n",
      "traitlets==5.14.3\n",
      "types-python-dateutil==2.9.0.20241003\n",
      "tzdata==2024.2\n",
      "uri-template==1.3.0\n",
      "urllib3==2.2.3\n",
      "virtualenv==20.27.0\n",
      "wcwidth==0.2.13\n",
      "webcolors==24.8.0\n",
      "webencodings==0.5.1\n",
      "websocket-client==1.8.0\n",
      "widgetsnbextension==4.0.13\n",
      "Note: you may need to restart the kernel to use updated packages.\n"
     ]
    },
    {
     "data": {
      "text/html": [
       "<div>\n",
       "<style scoped>\n",
       "    .dataframe tbody tr th:only-of-type {\n",
       "        vertical-align: middle;\n",
       "    }\n",
       "\n",
       "    .dataframe tbody tr th {\n",
       "        vertical-align: top;\n",
       "    }\n",
       "\n",
       "    .dataframe thead th {\n",
       "        text-align: right;\n",
       "    }\n",
       "</style>\n",
       "<table border=\"1\" class=\"dataframe\">\n",
       "  <thead>\n",
       "    <tr style=\"text-align: right;\">\n",
       "      <th></th>\n",
       "      <th>Unnamed: 0</th>\n",
       "      <th>Summons Number</th>\n",
       "      <th>Plate ID</th>\n",
       "      <th>Registration State</th>\n",
       "      <th>Plate Type</th>\n",
       "      <th>Issue Date</th>\n",
       "      <th>Violation Code</th>\n",
       "      <th>Vehicle Body Type</th>\n",
       "      <th>Vehicle Make</th>\n",
       "      <th>Issuing Agency</th>\n",
       "      <th>...</th>\n",
       "      <th>Vehicle Color</th>\n",
       "      <th>Unregistered Vehicle?</th>\n",
       "      <th>Vehicle Year</th>\n",
       "      <th>Meter Number</th>\n",
       "      <th>Feet From Curb</th>\n",
       "      <th>Violation Post Code</th>\n",
       "      <th>Violation Description</th>\n",
       "      <th>No Standing or Stopping Violation</th>\n",
       "      <th>Hydrant Violation</th>\n",
       "      <th>Double Parking Violation</th>\n",
       "    </tr>\n",
       "  </thead>\n",
       "  <tbody>\n",
       "    <tr>\n",
       "      <th>0</th>\n",
       "      <td>7192124</td>\n",
       "      <td>7684215310</td>\n",
       "      <td>24824MD</td>\n",
       "      <td>NY</td>\n",
       "      <td>COM</td>\n",
       "      <td>04/23/2014</td>\n",
       "      <td>71</td>\n",
       "      <td>VAN</td>\n",
       "      <td>FRIG</td>\n",
       "      <td>T</td>\n",
       "      <td>...</td>\n",
       "      <td>WH</td>\n",
       "      <td>NaN</td>\n",
       "      <td>2004.0</td>\n",
       "      <td>NaN</td>\n",
       "      <td>0.0</td>\n",
       "      <td>01 4</td>\n",
       "      <td>71A-Insp Sticker Expired (NYS)</td>\n",
       "      <td>NaN</td>\n",
       "      <td>NaN</td>\n",
       "      <td>NaN</td>\n",
       "    </tr>\n",
       "    <tr>\n",
       "      <th>1</th>\n",
       "      <td>1399831</td>\n",
       "      <td>5070680213</td>\n",
       "      <td>9TOPCLAS</td>\n",
       "      <td>NY</td>\n",
       "      <td>OMT</td>\n",
       "      <td>09/14/2013</td>\n",
       "      <td>7</td>\n",
       "      <td>4DSD</td>\n",
       "      <td>DODGE</td>\n",
       "      <td>V</td>\n",
       "      <td>...</td>\n",
       "      <td>BK</td>\n",
       "      <td>NaN</td>\n",
       "      <td>2008.0</td>\n",
       "      <td>NaN</td>\n",
       "      <td>0.0</td>\n",
       "      <td>NaN</td>\n",
       "      <td>FAILURE TO STOP AT RED LIGHT</td>\n",
       "      <td>NaN</td>\n",
       "      <td>NaN</td>\n",
       "      <td>NaN</td>\n",
       "    </tr>\n",
       "    <tr>\n",
       "      <th>2</th>\n",
       "      <td>5369188</td>\n",
       "      <td>1356951855</td>\n",
       "      <td>GEL1573</td>\n",
       "      <td>NY</td>\n",
       "      <td>PAS</td>\n",
       "      <td>02/13/2014</td>\n",
       "      <td>71</td>\n",
       "      <td>SUBN</td>\n",
       "      <td>HONDA</td>\n",
       "      <td>P</td>\n",
       "      <td>...</td>\n",
       "      <td>NaN</td>\n",
       "      <td>0.0</td>\n",
       "      <td>2006.0</td>\n",
       "      <td>-</td>\n",
       "      <td>0.0</td>\n",
       "      <td>NaN</td>\n",
       "      <td>NaN</td>\n",
       "      <td>NaN</td>\n",
       "      <td>NaN</td>\n",
       "      <td>NaN</td>\n",
       "    </tr>\n",
       "    <tr>\n",
       "      <th>3</th>\n",
       "      <td>6338606</td>\n",
       "      <td>7713806271</td>\n",
       "      <td>EDU1026</td>\n",
       "      <td>NY</td>\n",
       "      <td>PAS</td>\n",
       "      <td>03/20/2014</td>\n",
       "      <td>21</td>\n",
       "      <td>SUBN</td>\n",
       "      <td>TOYOT</td>\n",
       "      <td>T</td>\n",
       "      <td>...</td>\n",
       "      <td>GY</td>\n",
       "      <td>NaN</td>\n",
       "      <td>2008.0</td>\n",
       "      <td>NaN</td>\n",
       "      <td>0.0</td>\n",
       "      <td>14 4</td>\n",
       "      <td>21-No Parking (street clean)</td>\n",
       "      <td>NaN</td>\n",
       "      <td>NaN</td>\n",
       "      <td>NaN</td>\n",
       "    </tr>\n",
       "    <tr>\n",
       "      <th>4</th>\n",
       "      <td>2823881</td>\n",
       "      <td>7645478044</td>\n",
       "      <td>DXX6460</td>\n",
       "      <td>NY</td>\n",
       "      <td>PAS</td>\n",
       "      <td>11/01/2013</td>\n",
       "      <td>20</td>\n",
       "      <td>4DSD</td>\n",
       "      <td>HONDA</td>\n",
       "      <td>T</td>\n",
       "      <td>...</td>\n",
       "      <td>MR</td>\n",
       "      <td>NaN</td>\n",
       "      <td>1996.0</td>\n",
       "      <td>NaN</td>\n",
       "      <td>0.0</td>\n",
       "      <td>03-A</td>\n",
       "      <td>20A-No Parking (Non-COM)</td>\n",
       "      <td>NaN</td>\n",
       "      <td>NaN</td>\n",
       "      <td>NaN</td>\n",
       "    </tr>\n",
       "  </tbody>\n",
       "</table>\n",
       "<p>5 rows × 44 columns</p>\n",
       "</div>"
      ],
      "text/plain": [
       "   Unnamed: 0  Summons Number  Plate ID Registration State Plate Type  \\\n",
       "0     7192124      7684215310   24824MD                 NY        COM   \n",
       "1     1399831      5070680213  9TOPCLAS                 NY        OMT   \n",
       "2     5369188      1356951855   GEL1573                 NY        PAS   \n",
       "3     6338606      7713806271   EDU1026                 NY        PAS   \n",
       "4     2823881      7645478044   DXX6460                 NY        PAS   \n",
       "\n",
       "   Issue Date  Violation Code Vehicle Body Type Vehicle Make Issuing Agency  \\\n",
       "0  04/23/2014              71               VAN         FRIG              T   \n",
       "1  09/14/2013               7              4DSD        DODGE              V   \n",
       "2  02/13/2014              71              SUBN        HONDA              P   \n",
       "3  03/20/2014              21              SUBN        TOYOT              T   \n",
       "4  11/01/2013              20              4DSD        HONDA              T   \n",
       "\n",
       "   ...  Vehicle Color  Unregistered Vehicle?  Vehicle Year  Meter Number  \\\n",
       "0  ...             WH                    NaN        2004.0           NaN   \n",
       "1  ...             BK                    NaN        2008.0           NaN   \n",
       "2  ...            NaN                    0.0        2006.0             -   \n",
       "3  ...             GY                    NaN        2008.0           NaN   \n",
       "4  ...             MR                    NaN        1996.0           NaN   \n",
       "\n",
       "   Feet From Curb  Violation Post Code           Violation Description  \\\n",
       "0             0.0                 01 4  71A-Insp Sticker Expired (NYS)   \n",
       "1             0.0                  NaN    FAILURE TO STOP AT RED LIGHT   \n",
       "2             0.0                  NaN                             NaN   \n",
       "3             0.0                 14 4    21-No Parking (street clean)   \n",
       "4             0.0                 03-A        20A-No Parking (Non-COM)   \n",
       "\n",
       "   No Standing or Stopping Violation Hydrant Violation  \\\n",
       "0                                NaN               NaN   \n",
       "1                                NaN               NaN   \n",
       "2                                NaN               NaN   \n",
       "3                                NaN               NaN   \n",
       "4                                NaN               NaN   \n",
       "\n",
       "  Double Parking Violation  \n",
       "0                      NaN  \n",
       "1                      NaN  \n",
       "2                      NaN  \n",
       "3                      NaN  \n",
       "4                      NaN  \n",
       "\n",
       "[5 rows x 44 columns]"
      ]
     },
     "execution_count": 1,
     "metadata": {},
     "output_type": "execute_result"
    }
   ],
   "source": [
    "import pandas as pd\n",
    "%pip freeze\n",
    "df= pd.read_csv(\"sample_NYC_parking_issues.csv\", sep=\";\")\n",
    "df.head()"
   ]
  },
  {
   "cell_type": "markdown",
   "metadata": {},
   "source": [
    "### A) Limpia el dataframe de aquellas columnas con todos sus campos a NAN"
   ]
  },
  {
   "cell_type": "code",
   "execution_count": null,
   "metadata": {},
   "outputs": [
    {
     "data": {
      "text/plain": [
       "Unnamed: 0                           False\n",
       "Summons Number                       False\n",
       "Plate ID                             False\n",
       "Registration State                   False\n",
       "Plate Type                           False\n",
       "Issue Date                           False\n",
       "Violation Code                       False\n",
       "Vehicle Body Type                    False\n",
       "Vehicle Make                         False\n",
       "Issuing Agency                       False\n",
       "Street Code1                         False\n",
       "Street Code2                         False\n",
       "Street Code3                         False\n",
       "Vehicle Expiration Date              False\n",
       "Violation Location                   False\n",
       "Violation Precinct                   False\n",
       "Issuer Precinct                      False\n",
       "Issuer Code                          False\n",
       "Issuer Command                       False\n",
       "Issuer Squad                         False\n",
       "Violation Time                       False\n",
       "Time First Observed                  False\n",
       "Violation County                     False\n",
       "Violation In Front Of Or Opposite    False\n",
       "Number                               False\n",
       "Street                               False\n",
       "Intersecting Street                  False\n",
       "Date First Observed                  False\n",
       "Law Section                          False\n",
       "Sub Division                         False\n",
       "Violation Legal Code                 False\n",
       "Days Parking In Effect               False\n",
       "From Hours In Effect                 False\n",
       "To Hours In Effect                   False\n",
       "Vehicle Color                        False\n",
       "Unregistered Vehicle?                False\n",
       "Vehicle Year                         False\n",
       "Meter Number                         False\n",
       "Feet From Curb                       False\n",
       "Violation Post Code                  False\n",
       "Violation Description                False\n",
       "No Standing or Stopping Violation     True\n",
       "Hydrant Violation                     True\n",
       "Double Parking Violation              True\n",
       "dtype: bool"
      ]
     },
     "execution_count": 4,
     "metadata": {},
     "output_type": "execute_result"
    }
   ],
   "source": [
    "df.isna().all() #Mostar columnas con valores NaN"
   ]
  },
  {
   "cell_type": "code",
   "execution_count": null,
   "metadata": {},
   "outputs": [
    {
     "name": "stdout",
     "output_type": "stream",
     "text": [
      "   Unnamed: 0  Summons Number  Plate ID Registration State Plate Type  \\\n",
      "0     7192124      7684215310   24824MD                 NY        COM   \n",
      "1     1399831      5070680213  9TOPCLAS                 NY        OMT   \n",
      "\n",
      "   Issue Date  Violation Code Vehicle Body Type Vehicle Make Issuing Agency  \\\n",
      "0  04/23/2014              71               VAN         FRIG              T   \n",
      "1  09/14/2013               7              4DSD        DODGE              V   \n",
      "\n",
      "   ...  Days Parking In Effect      From Hours In Effect  To Hours In Effect  \\\n",
      "0  ...                     YYYYYYY                   NaN                 NaN   \n",
      "1  ...                         NaN                   NaN                 NaN   \n",
      "\n",
      "   Vehicle Color  Unregistered Vehicle?  Vehicle Year  Meter Number  \\\n",
      "0             WH                    NaN        2004.0           NaN   \n",
      "1             BK                    NaN        2008.0           NaN   \n",
      "\n",
      "   Feet From Curb Violation Post Code           Violation Description  \n",
      "0             0.0                01 4  71A-Insp Sticker Expired (NYS)  \n",
      "1             0.0                 NaN    FAILURE TO STOP AT RED LIGHT  \n",
      "\n",
      "[2 rows x 41 columns]\n"
     ]
    }
   ],
   "source": [
    "df1= df.dropna(axis=1, how=\"all\") #Limpiando el df de columnas con valores NaN\n",
    "print(df1.head(2)) #Muestra el df limpio (solo las primeras 2 filas)"
   ]
  },
  {
   "cell_type": "markdown",
   "metadata": {},
   "source": [
    "### B) Elimina todas las muestras donde la fecha no tenga coherencia: `Vehicle Year`, además transformalas a enteros (2024,2012,2006,etc.)"
   ]
  },
  {
   "cell_type": "code",
   "execution_count": null,
   "metadata": {},
   "outputs": [
    {
     "name": "stdout",
     "output_type": "stream",
     "text": [
      "[2004 2008 2006 1996 2003 2012 2011 2001 1988 1998 2009 2002 1994 1997\n",
      " 2007 2010 2013 1995 2005 1999 2014 1987 1985 1989 1993 1992 1990 2015\n",
      " 1982 1991 1986 1984 1983 1980]\n"
     ]
    }
   ],
   "source": [
    "df1 = df1.dropna(subset=['Vehicle Year']) #Eliminar filas de Vehicle Year con NaN\n",
    "df1['Vehicle Year'] = df1['Vehicle Year'].astype(int) #Convertir a enteros los valores de Vehicle Year\n",
    "df1 = df1[(df1['Vehicle Year']>= 1900) & (df1['Vehicle Year']<= 2024)] #Filtrar en rangos de fechas coherentes\n",
    "print(df1['Vehicle Year'].unique()) #Mostrando los valores únicos de la serie Vehicle Year\n"
   ]
  },
  {
   "cell_type": "markdown",
   "metadata": {},
   "source": [
    "### C) Hay marcas de vehículos que no guardan sentido con ninguna marca real (`Vehicle Make`) elimina dichas muestras. Deja constancia de cuantas has borrado."
   ]
  },
  {
   "cell_type": "code",
   "execution_count": null,
   "metadata": {},
   "outputs": [
    {
     "name": "stdout",
     "output_type": "stream",
     "text": [
      "['FRIG' 'DODGE' 'HONDA' 'TOYOT' 'VOLKS' 'INTER' 'FORD' 'GMC' 'ME/BE'\n",
      " 'NISSA' 'CHEVR' 'INFIN' 'LEXUS' 'VOLVO' 'MERCU' 'ACURA' 'NS/OT' 'BMW'\n",
      " 'PETER' 'LINCO' 'ISUZU' 'FRUEH' 'CHRYS' 'CADIL' 'WORK' 'SUBAR' 'HYUND'\n",
      " 'SAAB' 'PREV' 'PONTI' 'MITSU' 'ROVER' 'JEEP' 'MAZDA' 'LEXCO' 'WORKH'\n",
      " 'PORSC' 'FREI' 'AUDI' 'MACK' 'HINO' 'KIA' 'KENWO' 'BENTL' 'UTIL' 'JAGUA'\n",
      " 'SOLEC' nan 'MI/F' 'MINI' 'BUICK' 'SATUR' 'NAVIS' 'STARC' 'OLDSM' 'VAN H'\n",
      " 'SMITH' 'UD' 'PRATT' 'FR/LI' 'CHEET' 'SMART' 'UTITY' 'PREVO' 'PLYMO'\n",
      " 'SUZUK' 'HUMME' 'W' 'KAWAS' 'FIAT' 'FR/L' 'FR L' 'FRGHT' 'ICENE' 'UTILI'\n",
      " 'WO/C' 'THD' 'VESPA' 'GEM' 'WHITE' 'CHECK' 'RNG R' 'WANC' 'VOLU' 'LIMO'\n",
      " 'BL/B' 'KENW' 'KRYS' 'MCI' 'KW' 'SZI' 'STAR' 'UPS' 'HERCU' 'GIDNY' 'SPRI'\n",
      " 'VL' 'WOR' 'AMC' 'PUTEL' 'FRG']\n"
     ]
    }
   ],
   "source": [
    "print(df1['Vehicle Make'].unique()) #Mostrando los valores únicos de la serie Vehicle Make para tener idea de qué valores no tienen sentido"
   ]
  },
  {
   "cell_type": "code",
   "execution_count": null,
   "metadata": {},
   "outputs": [
    {
     "name": "stdout",
     "output_type": "stream",
     "text": [
      "['FRIG' 'DODGE' 'HONDA' 'TOYOT' 'VOLKS' 'INTER' 'FORD' 'GMC' 'ME/BE'\n",
      " 'NISSA' 'CHEVR' 'INFIN' 'LEXUS' 'VOLVO' 'MERCU' 'ACURA' 'NS/OT' 'BMW'\n",
      " 'PETER' 'LINCO' 'ISUZU' 'FRUEH' 'CHRYS' 'CADIL' 'WORK' 'SUBAR' 'HYUND'\n",
      " 'SAAB' 'PREV' 'PONTI' 'MITSU' 'ROVER' 'JEEP' 'MAZDA' 'LEXCO' 'WORKH'\n",
      " 'PORSC' 'FREI' 'AUDI' 'MACK' 'HINO' 'KIA' 'KENWO' 'BENTL' 'UTIL' 'JAGUA'\n",
      " 'SOLEC' 'MI/F' 'MINI' 'BUICK' 'SATUR' 'NAVIS' 'STARC' 'OLDSM' 'VAN H'\n",
      " 'SMITH' 'PRATT' 'FR/LI' 'CHEET' 'SMART' 'UTITY' 'PREVO' 'PLYMO' 'SUZUK'\n",
      " 'HUMME' 'KAWAS' 'FIAT' 'FR/L' 'FR L' 'FRGHT' 'ICENE' 'UTILI' 'WO/C' 'THD'\n",
      " 'VESPA' 'GEM' 'WHITE' 'CHECK' 'RNG R' 'WANC' 'VOLU' 'LIMO' 'BL/B' 'KENW'\n",
      " 'KRYS' 'MCI' 'SZI' 'STAR' 'UPS' 'HERCU' 'GIDNY' 'SPRI' 'WOR' 'AMC'\n",
      " 'PUTEL' 'FRG']\n"
     ]
    },
    {
     "name": "stderr",
     "output_type": "stream",
     "text": [
      "C:\\Users\\Santiago Hernandez\\AppData\\Local\\Temp\\ipykernel_4528\\672268362.py:6: FutureWarning: pandas.value_counts is deprecated and will be removed in a future version. Use pd.Series(obj).value_counts() instead.\n",
      "  pd.value_counts(df1['Vehicle Make'].unique())\n"
     ]
    },
    {
     "data": {
      "text/plain": [
       "FRIG     1\n",
       "DODGE    1\n",
       "HONDA    1\n",
       "TOYOT    1\n",
       "VOLKS    1\n",
       "        ..\n",
       "SPRI     1\n",
       "WOR      1\n",
       "AMC      1\n",
       "PUTEL    1\n",
       "FRG      1\n",
       "Name: count, Length: 96, dtype: int64"
      ]
     },
     "execution_count": 17,
     "metadata": {},
     "output_type": "execute_result"
    }
   ],
   "source": [
    "df1 = df1.dropna(subset=['Vehicle Make']) #Eliminando valores NaN de la serie Vehicle Make\n",
    "df1 = df1[~df1['Vehicle Make'].str.isnumeric()] #Eliminando valores que contengan números de la serie Vehicle Make (lo cual no tiene sentido)\n",
    "df1 = df1[df1['Vehicle Make'].str.len()> 2] #Eliminando valores que tengan menos de 3 caracteres\n",
    "\n",
    "print(df1['Vehicle Make'].unique()) #Mostrando nuevamente la serie Vehicle Make 'limpia'\n",
    "pd.value_counts(df1['Vehicle Make'].unique()) #Contando cuántas marcas de vehiculos hay ahora"
   ]
  },
  {
   "cell_type": "markdown",
   "metadata": {
    "vscode": {
     "languageId": "plaintext"
    }
   },
   "source": [
    "### D) Representa en un grafíco de barras la cantidad de vehículos (por marca `Vehicle Make`) "
   ]
  },
  {
   "cell_type": "code",
   "execution_count": 18,
   "metadata": {},
   "outputs": [],
   "source": [
    "import matplotlib.pyplot as plt\n",
    "import seaborn as sns\n",
    "#Cargando librerías para graficar"
   ]
  },
  {
   "cell_type": "code",
   "execution_count": null,
   "metadata": {},
   "outputs": [
    {
     "data": {
      "image/png": "[encoded data removed]",
      "text/plain": [
       "<Figure size 1000x500 with 1 Axes>"
      ]
     },
     "metadata": {},
     "output_type": "display_data"
    }
   ],
   "source": [
    "count_vehic= df1['Vehicle Make'].value_counts() #Contar la cantidad de marcas de vehiculos existentes en la serie\n",
    "top_count_vehic= count_vehic.head(30) #Para no saturar el gráfico mostaré solo las 30 marcas más comunes\n",
    "\n",
    "plt.figure(figsize=(10, 5))\n",
    "top_count_vehic.plot(kind='bar', color='red') #Creando gráfico de barras\n",
    "plt.title('Cantidad de vehículos por marca')\n",
    "plt.xlabel('Marca de vehículo')\n",
    "plt.ylabel('Cantidad de vehículos')\n",
    "\n",
    "plt.show() #Mostrando el gráfico\n"
   ]
  },
  {
   "cell_type": "markdown",
   "metadata": {},
   "source": [
    "### E) Unifica lo máximo que puedas la terminología de colores. Por ejemplo, valores como `WH` y `wh`y `wh\\`hacen referencia al `white`"
   ]
  },
  {
   "cell_type": "code",
   "execution_count": 25,
   "metadata": {},
   "outputs": [
    {
     "name": "stdout",
     "output_type": "stream",
     "text": [
      "['WH' 'BK' nan 'GY' 'MR' 'RD' 'BR' 'TAN' 'BL' 'WHITE' 'BROWN' 'BLUE'\n",
      " 'BLACK' 'TN' 'GREEN' 'OTHER' 'YW' 'BLK' 'DKB' 'GREY' 'GOLD' 'GR' 'BRN'\n",
      " 'PR' 'LTP' 'RED' 'GRN' 'DKGY' 'WT' 'SILVE' 'SILV' 'DKG' 'GRAY' 'WHT' 'GL'\n",
      " 'GREN' 'WTH' 'WH-BL' 'YELLO' 'SIL' 'ORANG' 'GRY' 'GYT' 'OR' 'SL' 'LTGY'\n",
      " 'YL' 'BEIGE' 'LTBL' 'BN' 'LTG' 'LT/' 'W' 'NOCL' 'GN' 'WHR' 'GYW' 'BLU'\n",
      " 'GY/' 'WHI' 'NOC' 'B' 'BG' 'R' 'GRG' 'SILVR' 'YEL' 'BKJ' 'GYGY' 'VAN'\n",
      " 'DK/' 'WH/' 'DKR' 'BLK/B' 'PURPL' 'UNKNO' 'YELOW' 'BROW' 'BLGY' 'TNGR'\n",
      " 'BK-RD' 'DKBL' 'TOPAZ' 'MC' 'RB' 'GY-GY' 'BRW' 'WGUTE' 'RD/' 'WHIT' 'BLG'\n",
      " 'LTB' 'BUS' 'GYTN' 'GRT' 'GYBR' 'PUR' 'BKBR']\n"
     ]
    }
   ],
   "source": [
    "print(df1['Vehicle Color'].unique()) #Identificando valores únicos en la serie Vehicle Color"
   ]
  },
  {
   "cell_type": "code",
   "execution_count": 29,
   "metadata": {},
   "outputs": [
    {
     "name": "stdout",
     "output_type": "stream",
     "text": [
      "['WHITE' 'BLACK' 'GREY' 'MR' 'RED' 'BR' 'TAN' 'BL' 'BROWN' 'BLUE' 'TN'\n",
      " 'GREEN' 'OTHER' 'YW' 'DKB' 'GOLD' 'PR' 'LTP' 'DKGY' 'SILVE' 'SILV' 'DKG'\n",
      " 'GRAY' 'GL' 'GREN' 'WTH' 'WH-BL' 'YELLOW' 'SIL' 'ORANG' 'GRY' 'GYT' 'OR'\n",
      " 'SL' 'LTGY' 'YL' 'BEIGE' 'LTBL' 'BN' 'LTG' 'LT/' 'W' 'NOCL' 'GN' 'WHR'\n",
      " 'GYW' 'BLU' 'GY/' 'NOC' 'BG' 'GRG' 'SILVR' 'BKJ' 'GYGY' 'VAN' 'DK/' 'WH/'\n",
      " 'DKR' 'BLK/B' 'PURPL' 'UNKNO' 'YELOW' 'BROW' 'BLGY' 'TNGR' 'BK-RD' 'DKBL'\n",
      " 'TOPAZ' 'MC' 'RB' 'BRW' 'WGUTE' 'WHIT' 'BLG' 'LTB' 'BUS' 'GYTN' 'GRT'\n",
      " 'GYBR' 'PUR' 'BKBR']\n"
     ]
    }
   ],
   "source": [
    "df1 = df1.dropna(subset=['Vehicle Color']) #Eliminando valores NaN de la serie Vehicle Color\n",
    "agrupar_colores= {\n",
    "    'WH':'WHITE', 'WITH':'WHITE', 'WHT':'WHITE', 'WT':'WHITE', 'WHI':'WHITE',\n",
    "    'BK':'BLACK', 'BLK':'BLACK', 'B':'BLACK', 'BRN':'BROWN',\n",
    "    'R':'RED', 'RD/':'RED', 'RD':'RED', 'YEL':'YELLOW', 'YELLO':'YELLOW',\n",
    "    'GY':'GREY', 'GY-GY':'GREY', 'GR':'GREEN', 'GRN':'GREEN'\n",
    "}\n",
    "df1['Vehicle Color'] = df1['Vehicle Color'].replace(agrupar_colores)\n",
    "\n",
    "print(df1['Vehicle Color'].unique())"
   ]
  },
  {
   "cell_type": "markdown",
   "metadata": {},
   "source": [
    "### F) Representa en un gráfico de barras las marca de vehículo segmentadas por colores de vehículos."
   ]
  },
  {
   "cell_type": "code",
   "execution_count": 41,
   "metadata": {},
   "outputs": [
    {
     "data": {
      "image/png": "[encoded data removed]",
      "text/plain": [
       "<Figure size 1200x700 with 1 Axes>"
      ]
     },
     "metadata": {},
     "output_type": "display_data"
    }
   ],
   "source": [
    "count_vehic = df1.groupby(['Vehicle Make', 'Vehicle Color']).size().reset_index(name='Count') #Contar la cantidad de marcas de colores existentes en la serie\n",
    "top_color_vehic = count_vehic.nlargest(30, 'Count') #Para no saturar el gráfico mostaré solo los 30 colores más comunes\n",
    "\n",
    "plt.figure(figsize=(12, 7))\n",
    "sns.barplot(data=top_color_vehic, x='Vehicle Make', y='Count', hue='Vehicle Color') #Creando el gráfico con la librería Seaborn\n",
    "plt.title('Cantidad de Vehículos por Marca y Color (Top 30)')\n",
    "plt.xlabel('Marca de Vehículo')\n",
    "plt.ylabel('Cantidad de Vehículos')\n",
    "plt.legend(title='Color de Vehículo')\n",
    "\n",
    "plt.show()"
   ]
  },
  {
   "cell_type": "markdown",
   "metadata": {},
   "source": [
    "### H) Subé este código a tu repositorio. Incluye un documento Readme.md Indicando tan solo: \"H\""
   ]
  },
  {
   "cell_type": "code",
   "execution_count": null,
   "metadata": {},
   "outputs": [],
   "source": []
  },
  {
   "cell_type": "markdown",
   "metadata": {},
   "source": [
    "### I) Convierte la serie `Issue Date` en una serie temporal y contabiliza las multas por `Violation Code[] y més del Issue Date."
   ]
  },
  {
   "cell_type": "code",
   "execution_count": null,
   "metadata": {},
   "outputs": [],
   "source": []
  },
  {
   "cell_type": "markdown",
   "metadata": {},
   "source": [
    "### J) Visualiza la anterior cuestión (I)"
   ]
  },
  {
   "cell_type": "markdown",
   "metadata": {},
   "source": []
  },
  {
   "cell_type": "markdown",
   "metadata": {},
   "source": [
    "### K) Subé este código a tu repositorio. Sustituye la 'H' del readme.md por un 'end'"
   ]
  },
  {
   "cell_type": "markdown",
   "metadata": {},
   "source": []
  }
 ],
 "metadata": {
  "kernelspec": {
   "display_name": "Python 3",
   "language": "python",
   "name": "python3"
  },
  "language_info": {
   "codemirror_mode": {
    "name": "ipython",
    "version": 3
   },
   "file_extension": ".py",
   "mimetype": "text/x-python",
   "name": "python",
   "nbconvert_exporter": "python",
   "pygments_lexer": "ipython3",
   "version": "3.13.0"
  }
 },
 "nbformat": 4,
 "nbformat_minor": 2
}
